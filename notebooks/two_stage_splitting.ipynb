{
 "cells": [
  {
   "cell_type": "markdown",
   "metadata": {},
   "source": [
    "# Two Stage Splitting\n",
    "\n",
    "In this post I'll share a simple technique to get the best splits from your documents using a two stage approach. We will use docling to extract the content of the essay [Meditations on Moloch](https://slatestarcodex.com/2014/07/30/meditations-on-moloch/) by Scott Alexander.\n",
    "\n",
    "<!-- more -->"
   ]
  },
  {
   "cell_type": "code",
   "execution_count": 9,
   "metadata": {},
   "outputs": [],
   "source": [
    "from docling.document_converter import DocumentConverter\n",
    "import numpy as np\n",
    "import plotly.express as px\n",
    "from langchain_huggingface import HuggingFaceEmbeddings"
   ]
  },
  {
   "cell_type": "code",
   "execution_count": 2,
   "metadata": {},
   "outputs": [
    {
     "data": {
      "text/plain": [
       "717190"
      ]
     },
     "execution_count": 2,
     "metadata": {},
     "output_type": "execute_result"
    }
   ],
   "source": [
    "converter = DocumentConverter()\n",
    "\n",
    "meditations_on_molloch_url = (\n",
    "    \"https://slatestarcodex.com/2014/07/30/meditations-on-moloch/\"\n",
    ")\n",
    "\n",
    "result = converter.convert(meditations_on_molloch_url)\n",
    "\n",
    "md_result = result.document.export_to_markdown()\n",
    "\n",
    "len(md_result)"
   ]
  },
  {
   "cell_type": "code",
   "execution_count": 3,
   "metadata": {},
   "outputs": [
    {
     "name": "stdout",
     "output_type": "stream",
     "text": [
      "### Economics\n",
      "\n",
      "- Artir Kel\n",
      "- Bryan Caplan\n",
      "- David Friedman\n",
      "- Pseudoerasmus\n",
      "- Scott Sumner\n",
      "- Tyler Cowen\n",
      "\n",
      "Effective Altruism\n",
      "\n",
      "### Effective Altruism\n",
      "\n",
      "- 80000 Hours Blog\n",
      "- Effective Altruism Forum\n",
      "- GiveWell Blog\n",
      "\n",
      "Rationality\n",
      "\n",
      "### Rationality\n",
      "\n",
      "- Alyssa Vance\n"
     ]
    }
   ],
   "source": [
    "print(md_result[:256])"
   ]
  },
  {
   "cell_type": "markdown",
   "metadata": {},
   "source": [
    "Alright, we have 717,190 characters in the document! Let's start with a naive approach and see what our chunks look like."
   ]
  },
  {
   "cell_type": "code",
   "execution_count": 43,
   "metadata": {},
   "outputs": [],
   "source": [
    "from langchain_text_splitters import RecursiveCharacterTextSplitter\n",
    "\n",
    "recursive_splitter = RecursiveCharacterTextSplitter(chunk_size=512)\n",
    "\n",
    "recursive_chunks = recursive_splitter.split_text(md_result)"
   ]
  },
  {
   "cell_type": "code",
   "execution_count": 44,
   "metadata": {},
   "outputs": [
    {
     "data": {
      "text/plain": [
       "2298"
      ]
     },
     "execution_count": 44,
     "metadata": {},
     "output_type": "execute_result"
    }
   ],
   "source": [
    "len(recursive_chunks)"
   ]
  },
  {
   "cell_type": "code",
   "execution_count": 46,
   "metadata": {},
   "outputs": [
    {
     "data": {
      "application/vnd.plotly.v1+json": {
       "config": {
        "plotlyServerURL": "https://plot.ly"
       },
       "data": [
        {
         "bingroup": "x",
         "hovertemplate": "x=%{x}<br>count=%{y}<extra></extra>",
         "legendgroup": "",
         "marker": {
          "color": "#636efa",
          "pattern": {
           "shape": ""
          }
         },
         "name": "",
         "orientation": "v",
         "showlegend": false,
         "type": "histogram",
         "x": {
          "bdata": "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",
          "dtype": "i2"
         },
         "xaxis": "x",
         "yaxis": "y"
        }
       ],
       "layout": {
        "barmode": "relative",
        "legend": {
         "tracegroupgap": 0
        },
        "margin": {
         "t": 60
        },
        "template": {
         "data": {
          "bar": [
           {
            "error_x": {
             "color": "#2a3f5f"
            },
            "error_y": {
             "color": "#2a3f5f"
            },
            "marker": {
             "line": {
              "color": "#E5ECF6",
              "width": 0.5
             },
             "pattern": {
              "fillmode": "overlay",
              "size": 10,
              "solidity": 0.2
             }
            },
            "type": "bar"
           }
          ],
          "barpolar": [
           {
            "marker": {
             "line": {
              "color": "#E5ECF6",
              "width": 0.5
             },
             "pattern": {
              "fillmode": "overlay",
              "size": 10,
              "solidity": 0.2
             }
            },
            "type": "barpolar"
           }
          ],
          "carpet": [
           {
            "aaxis": {
             "endlinecolor": "#2a3f5f",
             "gridcolor": "white",
             "linecolor": "white",
             "minorgridcolor": "white",
             "startlinecolor": "#2a3f5f"
            },
            "baxis": {
             "endlinecolor": "#2a3f5f",
             "gridcolor": "white",
             "linecolor": "white",
             "minorgridcolor": "white",
             "startlinecolor": "#2a3f5f"
            },
            "type": "carpet"
           }
          ],
          "choropleth": [
           {
            "colorbar": {
             "outlinewidth": 0,
             "ticks": ""
            },
            "type": "choropleth"
           }
          ],
          "contour": [
           {
            "colorbar": {
             "outlinewidth": 0,
             "ticks": ""
            },
            "colorscale": [
             [
              0,
              "#0d0887"
             ],
             [
              0.1111111111111111,
              "#46039f"
             ],
             [
              0.2222222222222222,
              "#7201a8"
             ],
             [
              0.3333333333333333,
              "#9c179e"
             ],
             [
              0.4444444444444444,
              "#bd3786"
             ],
             [
              0.5555555555555556,
              "#d8576b"
             ],
             [
              0.6666666666666666,
              "#ed7953"
             ],
             [
              0.7777777777777778,
              "#fb9f3a"
             ],
             [
              0.8888888888888888,
              "#fdca26"
             ],
             [
              1,
              "#f0f921"
             ]
            ],
            "type": "contour"
           }
          ],
          "contourcarpet": [
           {
            "colorbar": {
             "outlinewidth": 0,
             "ticks": ""
            },
            "type": "contourcarpet"
           }
          ],
          "heatmap": [
           {
            "colorbar": {
             "outlinewidth": 0,
             "ticks": ""
            },
            "colorscale": [
             [
              0,
              "#0d0887"
             ],
             [
              0.1111111111111111,
              "#46039f"
             ],
             [
              0.2222222222222222,
              "#7201a8"
             ],
             [
              0.3333333333333333,
              "#9c179e"
             ],
             [
              0.4444444444444444,
              "#bd3786"
             ],
             [
              0.5555555555555556,
              "#d8576b"
             ],
             [
              0.6666666666666666,
              "#ed7953"
             ],
             [
              0.7777777777777778,
              "#fb9f3a"
             ],
             [
              0.8888888888888888,
              "#fdca26"
             ],
             [
              1,
              "#f0f921"
             ]
            ],
            "type": "heatmap"
           }
          ],
          "histogram": [
           {
            "marker": {
             "pattern": {
              "fillmode": "overlay",
              "size": 10,
              "solidity": 0.2
             }
            },
            "type": "histogram"
           }
          ],
          "histogram2d": [
           {
            "colorbar": {
             "outlinewidth": 0,
             "ticks": ""
            },
            "colorscale": [
             [
              0,
              "#0d0887"
             ],
             [
              0.1111111111111111,
              "#46039f"
             ],
             [
              0.2222222222222222,
              "#7201a8"
             ],
             [
              0.3333333333333333,
              "#9c179e"
             ],
             [
              0.4444444444444444,
              "#bd3786"
             ],
             [
              0.5555555555555556,
              "#d8576b"
             ],
             [
              0.6666666666666666,
              "#ed7953"
             ],
             [
              0.7777777777777778,
              "#fb9f3a"
             ],
             [
              0.8888888888888888,
              "#fdca26"
             ],
             [
              1,
              "#f0f921"
             ]
            ],
            "type": "histogram2d"
           }
          ],
          "histogram2dcontour": [
           {
            "colorbar": {
             "outlinewidth": 0,
             "ticks": ""
            },
            "colorscale": [
             [
              0,
              "#0d0887"
             ],
             [
              0.1111111111111111,
              "#46039f"
             ],
             [
              0.2222222222222222,
              "#7201a8"
             ],
             [
              0.3333333333333333,
              "#9c179e"
             ],
             [
              0.4444444444444444,
              "#bd3786"
             ],
             [
              0.5555555555555556,
              "#d8576b"
             ],
             [
              0.6666666666666666,
              "#ed7953"
             ],
             [
              0.7777777777777778,
              "#fb9f3a"
             ],
             [
              0.8888888888888888,
              "#fdca26"
             ],
             [
              1,
              "#f0f921"
             ]
            ],
            "type": "histogram2dcontour"
           }
          ],
          "mesh3d": [
           {
            "colorbar": {
             "outlinewidth": 0,
             "ticks": ""
            },
            "type": "mesh3d"
           }
          ],
          "parcoords": [
           {
            "line": {
             "colorbar": {
              "outlinewidth": 0,
              "ticks": ""
             }
            },
            "type": "parcoords"
           }
          ],
          "pie": [
           {
            "automargin": true,
            "type": "pie"
           }
          ],
          "scatter": [
           {
            "fillpattern": {
             "fillmode": "overlay",
             "size": 10,
             "solidity": 0.2
            },
            "type": "scatter"
           }
          ],
          "scatter3d": [
           {
            "line": {
             "colorbar": {
              "outlinewidth": 0,
              "ticks": ""
             }
            },
            "marker": {
             "colorbar": {
              "outlinewidth": 0,
              "ticks": ""
             }
            },
            "type": "scatter3d"
           }
          ],
          "scattercarpet": [
           {
            "marker": {
             "colorbar": {
              "outlinewidth": 0,
              "ticks": ""
             }
            },
            "type": "scattercarpet"
           }
          ],
          "scattergeo": [
           {
            "marker": {
             "colorbar": {
              "outlinewidth": 0,
              "ticks": ""
             }
            },
            "type": "scattergeo"
           }
          ],
          "scattergl": [
           {
            "marker": {
             "colorbar": {
              "outlinewidth": 0,
              "ticks": ""
             }
            },
            "type": "scattergl"
           }
          ],
          "scattermap": [
           {
            "marker": {
             "colorbar": {
              "outlinewidth": 0,
              "ticks": ""
             }
            },
            "type": "scattermap"
           }
          ],
          "scattermapbox": [
           {
            "marker": {
             "colorbar": {
              "outlinewidth": 0,
              "ticks": ""
             }
            },
            "type": "scattermapbox"
           }
          ],
          "scatterpolar": [
           {
            "marker": {
             "colorbar": {
              "outlinewidth": 0,
              "ticks": ""
             }
            },
            "type": "scatterpolar"
           }
          ],
          "scatterpolargl": [
           {
            "marker": {
             "colorbar": {
              "outlinewidth": 0,
              "ticks": ""
             }
            },
            "type": "scatterpolargl"
           }
          ],
          "scatterternary": [
           {
            "marker": {
             "colorbar": {
              "outlinewidth": 0,
              "ticks": ""
             }
            },
            "type": "scatterternary"
           }
          ],
          "surface": [
           {
            "colorbar": {
             "outlinewidth": 0,
             "ticks": ""
            },
            "colorscale": [
             [
              0,
              "#0d0887"
             ],
             [
              0.1111111111111111,
              "#46039f"
             ],
             [
              0.2222222222222222,
              "#7201a8"
             ],
             [
              0.3333333333333333,
              "#9c179e"
             ],
             [
              0.4444444444444444,
              "#bd3786"
             ],
             [
              0.5555555555555556,
              "#d8576b"
             ],
             [
              0.6666666666666666,
              "#ed7953"
             ],
             [
              0.7777777777777778,
              "#fb9f3a"
             ],
             [
              0.8888888888888888,
              "#fdca26"
             ],
             [
              1,
              "#f0f921"
             ]
            ],
            "type": "surface"
           }
          ],
          "table": [
           {
            "cells": {
             "fill": {
              "color": "#EBF0F8"
             },
             "line": {
              "color": "white"
             }
            },
            "header": {
             "fill": {
              "color": "#C8D4E3"
             },
             "line": {
              "color": "white"
             }
            },
            "type": "table"
           }
          ]
         },
         "layout": {
          "annotationdefaults": {
           "arrowcolor": "#2a3f5f",
           "arrowhead": 0,
           "arrowwidth": 1
          },
          "autotypenumbers": "strict",
          "coloraxis": {
           "colorbar": {
            "outlinewidth": 0,
            "ticks": ""
           }
          },
          "colorscale": {
           "diverging": [
            [
             0,
             "#8e0152"
            ],
            [
             0.1,
             "#c51b7d"
            ],
            [
             0.2,
             "#de77ae"
            ],
            [
             0.3,
             "#f1b6da"
            ],
            [
             0.4,
             "#fde0ef"
            ],
            [
             0.5,
             "#f7f7f7"
            ],
            [
             0.6,
             "#e6f5d0"
            ],
            [
             0.7,
             "#b8e186"
            ],
            [
             0.8,
             "#7fbc41"
            ],
            [
             0.9,
             "#4d9221"
            ],
            [
             1,
             "#276419"
            ]
           ],
           "sequential": [
            [
             0,
             "#0d0887"
            ],
            [
             0.1111111111111111,
             "#46039f"
            ],
            [
             0.2222222222222222,
             "#7201a8"
            ],
            [
             0.3333333333333333,
             "#9c179e"
            ],
            [
             0.4444444444444444,
             "#bd3786"
            ],
            [
             0.5555555555555556,
             "#d8576b"
            ],
            [
             0.6666666666666666,
             "#ed7953"
            ],
            [
             0.7777777777777778,
             "#fb9f3a"
            ],
            [
             0.8888888888888888,
             "#fdca26"
            ],
            [
             1,
             "#f0f921"
            ]
           ],
           "sequentialminus": [
            [
             0,
             "#0d0887"
            ],
            [
             0.1111111111111111,
             "#46039f"
            ],
            [
             0.2222222222222222,
             "#7201a8"
            ],
            [
             0.3333333333333333,
             "#9c179e"
            ],
            [
             0.4444444444444444,
             "#bd3786"
            ],
            [
             0.5555555555555556,
             "#d8576b"
            ],
            [
             0.6666666666666666,
             "#ed7953"
            ],
            [
             0.7777777777777778,
             "#fb9f3a"
            ],
            [
             0.8888888888888888,
             "#fdca26"
            ],
            [
             1,
             "#f0f921"
            ]
           ]
          },
          "colorway": [
           "#636efa",
           "#EF553B",
           "#00cc96",
           "#ab63fa",
           "#FFA15A",
           "#19d3f3",
           "#FF6692",
           "#B6E880",
           "#FF97FF",
           "#FECB52"
          ],
          "font": {
           "color": "#2a3f5f"
          },
          "geo": {
           "bgcolor": "white",
           "lakecolor": "white",
           "landcolor": "#E5ECF6",
           "showlakes": true,
           "showland": true,
           "subunitcolor": "white"
          },
          "hoverlabel": {
           "align": "left"
          },
          "hovermode": "closest",
          "mapbox": {
           "style": "light"
          },
          "paper_bgcolor": "white",
          "plot_bgcolor": "#E5ECF6",
          "polar": {
           "angularaxis": {
            "gridcolor": "white",
            "linecolor": "white",
            "ticks": ""
           },
           "bgcolor": "#E5ECF6",
           "radialaxis": {
            "gridcolor": "white",
            "linecolor": "white",
            "ticks": ""
           }
          },
          "scene": {
           "xaxis": {
            "backgroundcolor": "#E5ECF6",
            "gridcolor": "white",
            "gridwidth": 2,
            "linecolor": "white",
            "showbackground": true,
            "ticks": "",
            "zerolinecolor": "white"
           },
           "yaxis": {
            "backgroundcolor": "#E5ECF6",
            "gridcolor": "white",
            "gridwidth": 2,
            "linecolor": "white",
            "showbackground": true,
            "ticks": "",
            "zerolinecolor": "white"
           },
           "zaxis": {
            "backgroundcolor": "#E5ECF6",
            "gridcolor": "white",
            "gridwidth": 2,
            "linecolor": "white",
            "showbackground": true,
            "ticks": "",
            "zerolinecolor": "white"
           }
          },
          "shapedefaults": {
           "line": {
            "color": "#2a3f5f"
           }
          },
          "ternary": {
           "aaxis": {
            "gridcolor": "white",
            "linecolor": "white",
            "ticks": ""
           },
           "baxis": {
            "gridcolor": "white",
            "linecolor": "white",
            "ticks": ""
           },
           "bgcolor": "#E5ECF6",
           "caxis": {
            "gridcolor": "white",
            "linecolor": "white",
            "ticks": ""
           }
          },
          "title": {
           "x": 0.05
          },
          "xaxis": {
           "automargin": true,
           "gridcolor": "white",
           "linecolor": "white",
           "ticks": "",
           "title": {
            "standoff": 15
           },
           "zerolinecolor": "white",
           "zerolinewidth": 2
          },
          "yaxis": {
           "automargin": true,
           "gridcolor": "white",
           "linecolor": "white",
           "ticks": "",
           "title": {
            "standoff": 15
           },
           "zerolinecolor": "white",
           "zerolinewidth": 2
          }
         }
        },
        "xaxis": {
         "anchor": "y",
         "domain": [
          0,
          1
         ],
         "title": {
          "text": "x"
         }
        },
        "yaxis": {
         "anchor": "x",
         "domain": [
          0,
          1
         ],
         "title": {
          "text": "count"
         }
        }
       }
      }
     },
     "metadata": {},
     "output_type": "display_data"
    }
   ],
   "source": [
    "# plotly express histogram of chunk lengths\n",
    "import plotly.express as px\n",
    "\n",
    "px.histogram(x=[len(chunk) for chunk in recursive_chunks]).show()\n"
   ]
  },
  {
   "cell_type": "code",
   "execution_count": 54,
   "metadata": {},
   "outputs": [
    {
     "name": "stdout",
     "output_type": "stream",
     "text": [
      "“Battle Hymn of the Republic” as a social justice hymn. MY objection is that I’d be a Christian if I could identify even a little with the text itself – the Original Sin, the patriarchal bullshit, the opposition to homosexuality, Paul’s command to women to be silent in church… these people, mostly one particular preacher at my school, have said that I secretly agreed with them, therefore I had to give up everything I love – my not-Christian lover, my atheist family, my friends who are gay or polyamorous or\n"
     ]
    }
   ],
   "source": [
    "random_index = np.random.randint(0, len(recursive_chunks))\n",
    "print(recursive_chunks[random_index])"
   ]
  },
  {
   "cell_type": "code",
   "execution_count": 55,
   "metadata": {},
   "outputs": [
    {
     "name": "stderr",
     "output_type": "stream",
     "text": [
      "Created a chunk of size 2192, which is longer than the specified 512\n",
      "Created a chunk of size 808, which is longer than the specified 512\n",
      "Created a chunk of size 533, which is longer than the specified 512\n",
      "Created a chunk of size 663, which is longer than the specified 512\n",
      "Created a chunk of size 613, which is longer than the specified 512\n",
      "Created a chunk of size 559, which is longer than the specified 512\n",
      "Created a chunk of size 858, which is longer than the specified 512\n",
      "Created a chunk of size 858, which is longer than the specified 512\n",
      "Created a chunk of size 913, which is longer than the specified 512\n",
      "Created a chunk of size 531, which is longer than the specified 512\n",
      "Created a chunk of size 841, which is longer than the specified 512\n",
      "Created a chunk of size 667, which is longer than the specified 512\n",
      "Created a chunk of size 537, which is longer than the specified 512\n",
      "Created a chunk of size 576, which is longer than the specified 512\n",
      "Created a chunk of size 811, which is longer than the specified 512\n",
      "Created a chunk of size 795, which is longer than the specified 512\n",
      "Created a chunk of size 518, which is longer than the specified 512\n",
      "Created a chunk of size 520, which is longer than the specified 512\n",
      "Created a chunk of size 554, which is longer than the specified 512\n",
      "Created a chunk of size 513, which is longer than the specified 512\n",
      "Created a chunk of size 697, which is longer than the specified 512\n",
      "Created a chunk of size 527, which is longer than the specified 512\n",
      "Created a chunk of size 543, which is longer than the specified 512\n",
      "Created a chunk of size 544, which is longer than the specified 512\n",
      "Created a chunk of size 559, which is longer than the specified 512\n",
      "Created a chunk of size 525, which is longer than the specified 512\n",
      "Created a chunk of size 591, which is longer than the specified 512\n",
      "Created a chunk of size 524, which is longer than the specified 512\n",
      "Created a chunk of size 565, which is longer than the specified 512\n",
      "Created a chunk of size 655, which is longer than the specified 512\n",
      "Created a chunk of size 559, which is longer than the specified 512\n",
      "Created a chunk of size 610, which is longer than the specified 512\n"
     ]
    },
    {
     "data": {
      "text/plain": [
       "2130"
      ]
     },
     "execution_count": 55,
     "metadata": {},
     "output_type": "execute_result"
    }
   ],
   "source": [
    "from langchain_text_splitters import NLTKTextSplitter\n",
    "\n",
    "nltk_splitter = NLTKTextSplitter(chunk_size=512)\n",
    "\n",
    "nltk_chunks = nltk_splitter.split_text(md_result)\n",
    "len(nltk_chunks)"
   ]
  },
  {
   "cell_type": "code",
   "execution_count": 56,
   "metadata": {},
   "outputs": [
    {
     "data": {
      "application/vnd.plotly.v1+json": {
       "config": {
        "plotlyServerURL": "https://plot.ly"
       },
       "data": [
        {
         "bingroup": "x",
         "hovertemplate": "x=%{x}<br>count=%{y}<extra></extra>",
         "legendgroup": "",
         "marker": {
          "color": "#636efa",
          "pattern": {
           "shape": ""
          }
         },
         "name": "",
         "orientation": "v",
         "showlegend": false,
         "type": "histogram",
         "x": {
          "bdata": "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",
          "dtype": "i2"
         },
         "xaxis": "x",
         "yaxis": "y"
        }
       ],
       "layout": {
        "barmode": "relative",
        "legend": {
         "tracegroupgap": 0
        },
        "margin": {
         "t": 60
        },
        "template": {
         "data": {
          "bar": [
           {
            "error_x": {
             "color": "#2a3f5f"
            },
            "error_y": {
             "color": "#2a3f5f"
            },
            "marker": {
             "line": {
              "color": "#E5ECF6",
              "width": 0.5
             },
             "pattern": {
              "fillmode": "overlay",
              "size": 10,
              "solidity": 0.2
             }
            },
            "type": "bar"
           }
          ],
          "barpolar": [
           {
            "marker": {
             "line": {
              "color": "#E5ECF6",
              "width": 0.5
             },
             "pattern": {
              "fillmode": "overlay",
              "size": 10,
              "solidity": 0.2
             }
            },
            "type": "barpolar"
           }
          ],
          "carpet": [
           {
            "aaxis": {
             "endlinecolor": "#2a3f5f",
             "gridcolor": "white",
             "linecolor": "white",
             "minorgridcolor": "white",
             "startlinecolor": "#2a3f5f"
            },
            "baxis": {
             "endlinecolor": "#2a3f5f",
             "gridcolor": "white",
             "linecolor": "white",
             "minorgridcolor": "white",
             "startlinecolor": "#2a3f5f"
            },
            "type": "carpet"
           }
          ],
          "choropleth": [
           {
            "colorbar": {
             "outlinewidth": 0,
             "ticks": ""
            },
            "type": "choropleth"
           }
          ],
          "contour": [
           {
            "colorbar": {
             "outlinewidth": 0,
             "ticks": ""
            },
            "colorscale": [
             [
              0,
              "#0d0887"
             ],
             [
              0.1111111111111111,
              "#46039f"
             ],
             [
              0.2222222222222222,
              "#7201a8"
             ],
             [
              0.3333333333333333,
              "#9c179e"
             ],
             [
              0.4444444444444444,
              "#bd3786"
             ],
             [
              0.5555555555555556,
              "#d8576b"
             ],
             [
              0.6666666666666666,
              "#ed7953"
             ],
             [
              0.7777777777777778,
              "#fb9f3a"
             ],
             [
              0.8888888888888888,
              "#fdca26"
             ],
             [
              1,
              "#f0f921"
             ]
            ],
            "type": "contour"
           }
          ],
          "contourcarpet": [
           {
            "colorbar": {
             "outlinewidth": 0,
             "ticks": ""
            },
            "type": "contourcarpet"
           }
          ],
          "heatmap": [
           {
            "colorbar": {
             "outlinewidth": 0,
             "ticks": ""
            },
            "colorscale": [
             [
              0,
              "#0d0887"
             ],
             [
              0.1111111111111111,
              "#46039f"
             ],
             [
              0.2222222222222222,
              "#7201a8"
             ],
             [
              0.3333333333333333,
              "#9c179e"
             ],
             [
              0.4444444444444444,
              "#bd3786"
             ],
             [
              0.5555555555555556,
              "#d8576b"
             ],
             [
              0.6666666666666666,
              "#ed7953"
             ],
             [
              0.7777777777777778,
              "#fb9f3a"
             ],
             [
              0.8888888888888888,
              "#fdca26"
             ],
             [
              1,
              "#f0f921"
             ]
            ],
            "type": "heatmap"
           }
          ],
          "histogram": [
           {
            "marker": {
             "pattern": {
              "fillmode": "overlay",
              "size": 10,
              "solidity": 0.2
             }
            },
            "type": "histogram"
           }
          ],
          "histogram2d": [
           {
            "colorbar": {
             "outlinewidth": 0,
             "ticks": ""
            },
            "colorscale": [
             [
              0,
              "#0d0887"
             ],
             [
              0.1111111111111111,
              "#46039f"
             ],
             [
              0.2222222222222222,
              "#7201a8"
             ],
             [
              0.3333333333333333,
              "#9c179e"
             ],
             [
              0.4444444444444444,
              "#bd3786"
             ],
             [
              0.5555555555555556,
              "#d8576b"
             ],
             [
              0.6666666666666666,
              "#ed7953"
             ],
             [
              0.7777777777777778,
              "#fb9f3a"
             ],
             [
              0.8888888888888888,
              "#fdca26"
             ],
             [
              1,
              "#f0f921"
             ]
            ],
            "type": "histogram2d"
           }
          ],
          "histogram2dcontour": [
           {
            "colorbar": {
             "outlinewidth": 0,
             "ticks": ""
            },
            "colorscale": [
             [
              0,
              "#0d0887"
             ],
             [
              0.1111111111111111,
              "#46039f"
             ],
             [
              0.2222222222222222,
              "#7201a8"
             ],
             [
              0.3333333333333333,
              "#9c179e"
             ],
             [
              0.4444444444444444,
              "#bd3786"
             ],
             [
              0.5555555555555556,
              "#d8576b"
             ],
             [
              0.6666666666666666,
              "#ed7953"
             ],
             [
              0.7777777777777778,
              "#fb9f3a"
             ],
             [
              0.8888888888888888,
              "#fdca26"
             ],
             [
              1,
              "#f0f921"
             ]
            ],
            "type": "histogram2dcontour"
           }
          ],
          "mesh3d": [
           {
            "colorbar": {
             "outlinewidth": 0,
             "ticks": ""
            },
            "type": "mesh3d"
           }
          ],
          "parcoords": [
           {
            "line": {
             "colorbar": {
              "outlinewidth": 0,
              "ticks": ""
             }
            },
            "type": "parcoords"
           }
          ],
          "pie": [
           {
            "automargin": true,
            "type": "pie"
           }
          ],
          "scatter": [
           {
            "fillpattern": {
             "fillmode": "overlay",
             "size": 10,
             "solidity": 0.2
            },
            "type": "scatter"
           }
          ],
          "scatter3d": [
           {
            "line": {
             "colorbar": {
              "outlinewidth": 0,
              "ticks": ""
             }
            },
            "marker": {
             "colorbar": {
              "outlinewidth": 0,
              "ticks": ""
             }
            },
            "type": "scatter3d"
           }
          ],
          "scattercarpet": [
           {
            "marker": {
             "colorbar": {
              "outlinewidth": 0,
              "ticks": ""
             }
            },
            "type": "scattercarpet"
           }
          ],
          "scattergeo": [
           {
            "marker": {
             "colorbar": {
              "outlinewidth": 0,
              "ticks": ""
             }
            },
            "type": "scattergeo"
           }
          ],
          "scattergl": [
           {
            "marker": {
             "colorbar": {
              "outlinewidth": 0,
              "ticks": ""
             }
            },
            "type": "scattergl"
           }
          ],
          "scattermap": [
           {
            "marker": {
             "colorbar": {
              "outlinewidth": 0,
              "ticks": ""
             }
            },
            "type": "scattermap"
           }
          ],
          "scattermapbox": [
           {
            "marker": {
             "colorbar": {
              "outlinewidth": 0,
              "ticks": ""
             }
            },
            "type": "scattermapbox"
           }
          ],
          "scatterpolar": [
           {
            "marker": {
             "colorbar": {
              "outlinewidth": 0,
              "ticks": ""
             }
            },
            "type": "scatterpolar"
           }
          ],
          "scatterpolargl": [
           {
            "marker": {
             "colorbar": {
              "outlinewidth": 0,
              "ticks": ""
             }
            },
            "type": "scatterpolargl"
           }
          ],
          "scatterternary": [
           {
            "marker": {
             "colorbar": {
              "outlinewidth": 0,
              "ticks": ""
             }
            },
            "type": "scatterternary"
           }
          ],
          "surface": [
           {
            "colorbar": {
             "outlinewidth": 0,
             "ticks": ""
            },
            "colorscale": [
             [
              0,
              "#0d0887"
             ],
             [
              0.1111111111111111,
              "#46039f"
             ],
             [
              0.2222222222222222,
              "#7201a8"
             ],
             [
              0.3333333333333333,
              "#9c179e"
             ],
             [
              0.4444444444444444,
              "#bd3786"
             ],
             [
              0.5555555555555556,
              "#d8576b"
             ],
             [
              0.6666666666666666,
              "#ed7953"
             ],
             [
              0.7777777777777778,
              "#fb9f3a"
             ],
             [
              0.8888888888888888,
              "#fdca26"
             ],
             [
              1,
              "#f0f921"
             ]
            ],
            "type": "surface"
           }
          ],
          "table": [
           {
            "cells": {
             "fill": {
              "color": "#EBF0F8"
             },
             "line": {
              "color": "white"
             }
            },
            "header": {
             "fill": {
              "color": "#C8D4E3"
             },
             "line": {
              "color": "white"
             }
            },
            "type": "table"
           }
          ]
         },
         "layout": {
          "annotationdefaults": {
           "arrowcolor": "#2a3f5f",
           "arrowhead": 0,
           "arrowwidth": 1
          },
          "autotypenumbers": "strict",
          "coloraxis": {
           "colorbar": {
            "outlinewidth": 0,
            "ticks": ""
           }
          },
          "colorscale": {
           "diverging": [
            [
             0,
             "#8e0152"
            ],
            [
             0.1,
             "#c51b7d"
            ],
            [
             0.2,
             "#de77ae"
            ],
            [
             0.3,
             "#f1b6da"
            ],
            [
             0.4,
             "#fde0ef"
            ],
            [
             0.5,
             "#f7f7f7"
            ],
            [
             0.6,
             "#e6f5d0"
            ],
            [
             0.7,
             "#b8e186"
            ],
            [
             0.8,
             "#7fbc41"
            ],
            [
             0.9,
             "#4d9221"
            ],
            [
             1,
             "#276419"
            ]
           ],
           "sequential": [
            [
             0,
             "#0d0887"
            ],
            [
             0.1111111111111111,
             "#46039f"
            ],
            [
             0.2222222222222222,
             "#7201a8"
            ],
            [
             0.3333333333333333,
             "#9c179e"
            ],
            [
             0.4444444444444444,
             "#bd3786"
            ],
            [
             0.5555555555555556,
             "#d8576b"
            ],
            [
             0.6666666666666666,
             "#ed7953"
            ],
            [
             0.7777777777777778,
             "#fb9f3a"
            ],
            [
             0.8888888888888888,
             "#fdca26"
            ],
            [
             1,
             "#f0f921"
            ]
           ],
           "sequentialminus": [
            [
             0,
             "#0d0887"
            ],
            [
             0.1111111111111111,
             "#46039f"
            ],
            [
             0.2222222222222222,
             "#7201a8"
            ],
            [
             0.3333333333333333,
             "#9c179e"
            ],
            [
             0.4444444444444444,
             "#bd3786"
            ],
            [
             0.5555555555555556,
             "#d8576b"
            ],
            [
             0.6666666666666666,
             "#ed7953"
            ],
            [
             0.7777777777777778,
             "#fb9f3a"
            ],
            [
             0.8888888888888888,
             "#fdca26"
            ],
            [
             1,
             "#f0f921"
            ]
           ]
          },
          "colorway": [
           "#636efa",
           "#EF553B",
           "#00cc96",
           "#ab63fa",
           "#FFA15A",
           "#19d3f3",
           "#FF6692",
           "#B6E880",
           "#FF97FF",
           "#FECB52"
          ],
          "font": {
           "color": "#2a3f5f"
          },
          "geo": {
           "bgcolor": "white",
           "lakecolor": "white",
           "landcolor": "#E5ECF6",
           "showlakes": true,
           "showland": true,
           "subunitcolor": "white"
          },
          "hoverlabel": {
           "align": "left"
          },
          "hovermode": "closest",
          "mapbox": {
           "style": "light"
          },
          "paper_bgcolor": "white",
          "plot_bgcolor": "#E5ECF6",
          "polar": {
           "angularaxis": {
            "gridcolor": "white",
            "linecolor": "white",
            "ticks": ""
           },
           "bgcolor": "#E5ECF6",
           "radialaxis": {
            "gridcolor": "white",
            "linecolor": "white",
            "ticks": ""
           }
          },
          "scene": {
           "xaxis": {
            "backgroundcolor": "#E5ECF6",
            "gridcolor": "white",
            "gridwidth": 2,
            "linecolor": "white",
            "showbackground": true,
            "ticks": "",
            "zerolinecolor": "white"
           },
           "yaxis": {
            "backgroundcolor": "#E5ECF6",
            "gridcolor": "white",
            "gridwidth": 2,
            "linecolor": "white",
            "showbackground": true,
            "ticks": "",
            "zerolinecolor": "white"
           },
           "zaxis": {
            "backgroundcolor": "#E5ECF6",
            "gridcolor": "white",
            "gridwidth": 2,
            "linecolor": "white",
            "showbackground": true,
            "ticks": "",
            "zerolinecolor": "white"
           }
          },
          "shapedefaults": {
           "line": {
            "color": "#2a3f5f"
           }
          },
          "ternary": {
           "aaxis": {
            "gridcolor": "white",
            "linecolor": "white",
            "ticks": ""
           },
           "baxis": {
            "gridcolor": "white",
            "linecolor": "white",
            "ticks": ""
           },
           "bgcolor": "#E5ECF6",
           "caxis": {
            "gridcolor": "white",
            "linecolor": "white",
            "ticks": ""
           }
          },
          "title": {
           "x": 0.05
          },
          "xaxis": {
           "automargin": true,
           "gridcolor": "white",
           "linecolor": "white",
           "ticks": "",
           "title": {
            "standoff": 15
           },
           "zerolinecolor": "white",
           "zerolinewidth": 2
          },
          "yaxis": {
           "automargin": true,
           "gridcolor": "white",
           "linecolor": "white",
           "ticks": "",
           "title": {
            "standoff": 15
           },
           "zerolinecolor": "white",
           "zerolinewidth": 2
          }
         }
        },
        "xaxis": {
         "anchor": "y",
         "domain": [
          0,
          1
         ],
         "title": {
          "text": "x"
         }
        },
        "yaxis": {
         "anchor": "x",
         "domain": [
          0,
          1
         ],
         "title": {
          "text": "count"
         }
        }
       }
      }
     },
     "metadata": {},
     "output_type": "display_data"
    }
   ],
   "source": [
    "px.histogram(x=[len(chunk) for chunk in nltk_chunks]).show()"
   ]
  },
  {
   "cell_type": "code",
   "execution_count": 61,
   "metadata": {},
   "outputs": [
    {
     "name": "stdout",
     "output_type": "stream",
     "text": [
      "This face has power outside the biological realm: much of college education may fall under its purview.\n",
      "\n",
      "I nominate Ishtar as a name, ancient goddess of lust and war but not of love.\n",
      "\n",
      "Ishtar is not a friendly goddess, not in a Yudkowskian sense, but she seems a little better for us than Moloch.\n",
      "\n",
      "- Elizabeth says: \n",
      "\n",
      "\t\t\tJuly 30, 2014 at 4:21 pm \n",
      "+1 this name for this concept.\n",
      "\n",
      "Also, wow, Scott, this post was extraordinary.\n",
      "\n",
      "276.\n"
     ]
    }
   ],
   "source": [
    "random_index = np.random.randint(0, len(nltk_chunks))\n",
    "print(nltk_chunks[random_index])"
   ]
  },
  {
   "cell_type": "code",
   "execution_count": null,
   "metadata": {},
   "outputs": [
    {
     "name": "stderr",
     "output_type": "stream",
     "text": [
      "Created a chunk of size 2192, which is longer than the specified 512\n",
      "Created a chunk of size 808, which is longer than the specified 512\n",
      "Created a chunk of size 533, which is longer than the specified 512\n",
      "Created a chunk of size 663, which is longer than the specified 512\n",
      "Created a chunk of size 613, which is longer than the specified 512\n",
      "Created a chunk of size 559, which is longer than the specified 512\n",
      "Created a chunk of size 858, which is longer than the specified 512\n",
      "Created a chunk of size 858, which is longer than the specified 512\n",
      "Created a chunk of size 913, which is longer than the specified 512\n",
      "Created a chunk of size 531, which is longer than the specified 512\n",
      "Created a chunk of size 841, which is longer than the specified 512\n",
      "Created a chunk of size 667, which is longer than the specified 512\n",
      "Created a chunk of size 537, which is longer than the specified 512\n",
      "Created a chunk of size 576, which is longer than the specified 512\n",
      "Created a chunk of size 811, which is longer than the specified 512\n",
      "Created a chunk of size 795, which is longer than the specified 512\n",
      "Created a chunk of size 518, which is longer than the specified 512\n",
      "Created a chunk of size 520, which is longer than the specified 512\n",
      "Created a chunk of size 554, which is longer than the specified 512\n",
      "Created a chunk of size 513, which is longer than the specified 512\n",
      "Created a chunk of size 697, which is longer than the specified 512\n",
      "Created a chunk of size 527, which is longer than the specified 512\n",
      "Created a chunk of size 543, which is longer than the specified 512\n",
      "Created a chunk of size 544, which is longer than the specified 512\n",
      "Created a chunk of size 559, which is longer than the specified 512\n",
      "Created a chunk of size 525, which is longer than the specified 512\n",
      "Created a chunk of size 591, which is longer than the specified 512\n",
      "Created a chunk of size 524, which is longer than the specified 512\n",
      "Created a chunk of size 565, which is longer than the specified 512\n",
      "Created a chunk of size 655, which is longer than the specified 512\n",
      "Created a chunk of size 559, which is longer than the specified 512\n",
      "Created a chunk of size 610, which is longer than the specified 512\n"
     ]
    },
    {
     "data": {
      "text/plain": [
       "2175"
      ]
     },
     "execution_count": 37,
     "metadata": {},
     "output_type": "execute_result"
    }
   ],
   "source": [
    "def multi_stage_splitter(text, chunk_size=512):\n",
    "    chunks = []\n",
    "\n",
    "    nltk_chunks = nltk_splitter.split_text(text)\n",
    "    for chunk in nltk_chunks:\n",
    "        if len(chunk) < chunk_size:\n",
    "            chunks.append(chunk)\n",
    "        else:\n",
    "            recursive_chunks = recursive_splitter.split_text(chunk)\n",
    "            chunks.extend(recursive_chunks)\n",
    "\n",
    "    return chunks\n",
    "\n",
    "\n",
    "multi_stage_chunks = multi_stage_splitter(md_result)\n",
    "len(multi_stage_chunks)"
   ]
  },
  {
   "cell_type": "code",
   "execution_count": 62,
   "metadata": {},
   "outputs": [
    {
     "data": {
      "application/vnd.plotly.v1+json": {
       "config": {
        "plotlyServerURL": "https://plot.ly"
       },
       "data": [
        {
         "bingroup": "x",
         "hovertemplate": "x=%{x}<br>count=%{y}<extra></extra>",
         "legendgroup": "",
         "marker": {
          "color": "#636efa",
          "pattern": {
           "shape": ""
          }
         },
         "name": "",
         "orientation": "v",
         "showlegend": false,
         "type": "histogram",
         "x": {
          "bdata": "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",
          "dtype": "i2"
         },
         "xaxis": "x",
         "yaxis": "y"
        }
       ],
       "layout": {
        "barmode": "relative",
        "legend": {
         "tracegroupgap": 0
        },
        "margin": {
         "t": 60
        },
        "template": {
         "data": {
          "bar": [
           {
            "error_x": {
             "color": "#2a3f5f"
            },
            "error_y": {
             "color": "#2a3f5f"
            },
            "marker": {
             "line": {
              "color": "#E5ECF6",
              "width": 0.5
             },
             "pattern": {
              "fillmode": "overlay",
              "size": 10,
              "solidity": 0.2
             }
            },
            "type": "bar"
           }
          ],
          "barpolar": [
           {
            "marker": {
             "line": {
              "color": "#E5ECF6",
              "width": 0.5
             },
             "pattern": {
              "fillmode": "overlay",
              "size": 10,
              "solidity": 0.2
             }
            },
            "type": "barpolar"
           }
          ],
          "carpet": [
           {
            "aaxis": {
             "endlinecolor": "#2a3f5f",
             "gridcolor": "white",
             "linecolor": "white",
             "minorgridcolor": "white",
             "startlinecolor": "#2a3f5f"
            },
            "baxis": {
             "endlinecolor": "#2a3f5f",
             "gridcolor": "white",
             "linecolor": "white",
             "minorgridcolor": "white",
             "startlinecolor": "#2a3f5f"
            },
            "type": "carpet"
           }
          ],
          "choropleth": [
           {
            "colorbar": {
             "outlinewidth": 0,
             "ticks": ""
            },
            "type": "choropleth"
           }
          ],
          "contour": [
           {
            "colorbar": {
             "outlinewidth": 0,
             "ticks": ""
            },
            "colorscale": [
             [
              0,
              "#0d0887"
             ],
             [
              0.1111111111111111,
              "#46039f"
             ],
             [
              0.2222222222222222,
              "#7201a8"
             ],
             [
              0.3333333333333333,
              "#9c179e"
             ],
             [
              0.4444444444444444,
              "#bd3786"
             ],
             [
              0.5555555555555556,
              "#d8576b"
             ],
             [
              0.6666666666666666,
              "#ed7953"
             ],
             [
              0.7777777777777778,
              "#fb9f3a"
             ],
             [
              0.8888888888888888,
              "#fdca26"
             ],
             [
              1,
              "#f0f921"
             ]
            ],
            "type": "contour"
           }
          ],
          "contourcarpet": [
           {
            "colorbar": {
             "outlinewidth": 0,
             "ticks": ""
            },
            "type": "contourcarpet"
           }
          ],
          "heatmap": [
           {
            "colorbar": {
             "outlinewidth": 0,
             "ticks": ""
            },
            "colorscale": [
             [
              0,
              "#0d0887"
             ],
             [
              0.1111111111111111,
              "#46039f"
             ],
             [
              0.2222222222222222,
              "#7201a8"
             ],
             [
              0.3333333333333333,
              "#9c179e"
             ],
             [
              0.4444444444444444,
              "#bd3786"
             ],
             [
              0.5555555555555556,
              "#d8576b"
             ],
             [
              0.6666666666666666,
              "#ed7953"
             ],
             [
              0.7777777777777778,
              "#fb9f3a"
             ],
             [
              0.8888888888888888,
              "#fdca26"
             ],
             [
              1,
              "#f0f921"
             ]
            ],
            "type": "heatmap"
           }
          ],
          "histogram": [
           {
            "marker": {
             "pattern": {
              "fillmode": "overlay",
              "size": 10,
              "solidity": 0.2
             }
            },
            "type": "histogram"
           }
          ],
          "histogram2d": [
           {
            "colorbar": {
             "outlinewidth": 0,
             "ticks": ""
            },
            "colorscale": [
             [
              0,
              "#0d0887"
             ],
             [
              0.1111111111111111,
              "#46039f"
             ],
             [
              0.2222222222222222,
              "#7201a8"
             ],
             [
              0.3333333333333333,
              "#9c179e"
             ],
             [
              0.4444444444444444,
              "#bd3786"
             ],
             [
              0.5555555555555556,
              "#d8576b"
             ],
             [
              0.6666666666666666,
              "#ed7953"
             ],
             [
              0.7777777777777778,
              "#fb9f3a"
             ],
             [
              0.8888888888888888,
              "#fdca26"
             ],
             [
              1,
              "#f0f921"
             ]
            ],
            "type": "histogram2d"
           }
          ],
          "histogram2dcontour": [
           {
            "colorbar": {
             "outlinewidth": 0,
             "ticks": ""
            },
            "colorscale": [
             [
              0,
              "#0d0887"
             ],
             [
              0.1111111111111111,
              "#46039f"
             ],
             [
              0.2222222222222222,
              "#7201a8"
             ],
             [
              0.3333333333333333,
              "#9c179e"
             ],
             [
              0.4444444444444444,
              "#bd3786"
             ],
             [
              0.5555555555555556,
              "#d8576b"
             ],
             [
              0.6666666666666666,
              "#ed7953"
             ],
             [
              0.7777777777777778,
              "#fb9f3a"
             ],
             [
              0.8888888888888888,
              "#fdca26"
             ],
             [
              1,
              "#f0f921"
             ]
            ],
            "type": "histogram2dcontour"
           }
          ],
          "mesh3d": [
           {
            "colorbar": {
             "outlinewidth": 0,
             "ticks": ""
            },
            "type": "mesh3d"
           }
          ],
          "parcoords": [
           {
            "line": {
             "colorbar": {
              "outlinewidth": 0,
              "ticks": ""
             }
            },
            "type": "parcoords"
           }
          ],
          "pie": [
           {
            "automargin": true,
            "type": "pie"
           }
          ],
          "scatter": [
           {
            "fillpattern": {
             "fillmode": "overlay",
             "size": 10,
             "solidity": 0.2
            },
            "type": "scatter"
           }
          ],
          "scatter3d": [
           {
            "line": {
             "colorbar": {
              "outlinewidth": 0,
              "ticks": ""
             }
            },
            "marker": {
             "colorbar": {
              "outlinewidth": 0,
              "ticks": ""
             }
            },
            "type": "scatter3d"
           }
          ],
          "scattercarpet": [
           {
            "marker": {
             "colorbar": {
              "outlinewidth": 0,
              "ticks": ""
             }
            },
            "type": "scattercarpet"
           }
          ],
          "scattergeo": [
           {
            "marker": {
             "colorbar": {
              "outlinewidth": 0,
              "ticks": ""
             }
            },
            "type": "scattergeo"
           }
          ],
          "scattergl": [
           {
            "marker": {
             "colorbar": {
              "outlinewidth": 0,
              "ticks": ""
             }
            },
            "type": "scattergl"
           }
          ],
          "scattermap": [
           {
            "marker": {
             "colorbar": {
              "outlinewidth": 0,
              "ticks": ""
             }
            },
            "type": "scattermap"
           }
          ],
          "scattermapbox": [
           {
            "marker": {
             "colorbar": {
              "outlinewidth": 0,
              "ticks": ""
             }
            },
            "type": "scattermapbox"
           }
          ],
          "scatterpolar": [
           {
            "marker": {
             "colorbar": {
              "outlinewidth": 0,
              "ticks": ""
             }
            },
            "type": "scatterpolar"
           }
          ],
          "scatterpolargl": [
           {
            "marker": {
             "colorbar": {
              "outlinewidth": 0,
              "ticks": ""
             }
            },
            "type": "scatterpolargl"
           }
          ],
          "scatterternary": [
           {
            "marker": {
             "colorbar": {
              "outlinewidth": 0,
              "ticks": ""
             }
            },
            "type": "scatterternary"
           }
          ],
          "surface": [
           {
            "colorbar": {
             "outlinewidth": 0,
             "ticks": ""
            },
            "colorscale": [
             [
              0,
              "#0d0887"
             ],
             [
              0.1111111111111111,
              "#46039f"
             ],
             [
              0.2222222222222222,
              "#7201a8"
             ],
             [
              0.3333333333333333,
              "#9c179e"
             ],
             [
              0.4444444444444444,
              "#bd3786"
             ],
             [
              0.5555555555555556,
              "#d8576b"
             ],
             [
              0.6666666666666666,
              "#ed7953"
             ],
             [
              0.7777777777777778,
              "#fb9f3a"
             ],
             [
              0.8888888888888888,
              "#fdca26"
             ],
             [
              1,
              "#f0f921"
             ]
            ],
            "type": "surface"
           }
          ],
          "table": [
           {
            "cells": {
             "fill": {
              "color": "#EBF0F8"
             },
             "line": {
              "color": "white"
             }
            },
            "header": {
             "fill": {
              "color": "#C8D4E3"
             },
             "line": {
              "color": "white"
             }
            },
            "type": "table"
           }
          ]
         },
         "layout": {
          "annotationdefaults": {
           "arrowcolor": "#2a3f5f",
           "arrowhead": 0,
           "arrowwidth": 1
          },
          "autotypenumbers": "strict",
          "coloraxis": {
           "colorbar": {
            "outlinewidth": 0,
            "ticks": ""
           }
          },
          "colorscale": {
           "diverging": [
            [
             0,
             "#8e0152"
            ],
            [
             0.1,
             "#c51b7d"
            ],
            [
             0.2,
             "#de77ae"
            ],
            [
             0.3,
             "#f1b6da"
            ],
            [
             0.4,
             "#fde0ef"
            ],
            [
             0.5,
             "#f7f7f7"
            ],
            [
             0.6,
             "#e6f5d0"
            ],
            [
             0.7,
             "#b8e186"
            ],
            [
             0.8,
             "#7fbc41"
            ],
            [
             0.9,
             "#4d9221"
            ],
            [
             1,
             "#276419"
            ]
           ],
           "sequential": [
            [
             0,
             "#0d0887"
            ],
            [
             0.1111111111111111,
             "#46039f"
            ],
            [
             0.2222222222222222,
             "#7201a8"
            ],
            [
             0.3333333333333333,
             "#9c179e"
            ],
            [
             0.4444444444444444,
             "#bd3786"
            ],
            [
             0.5555555555555556,
             "#d8576b"
            ],
            [
             0.6666666666666666,
             "#ed7953"
            ],
            [
             0.7777777777777778,
             "#fb9f3a"
            ],
            [
             0.8888888888888888,
             "#fdca26"
            ],
            [
             1,
             "#f0f921"
            ]
           ],
           "sequentialminus": [
            [
             0,
             "#0d0887"
            ],
            [
             0.1111111111111111,
             "#46039f"
            ],
            [
             0.2222222222222222,
             "#7201a8"
            ],
            [
             0.3333333333333333,
             "#9c179e"
            ],
            [
             0.4444444444444444,
             "#bd3786"
            ],
            [
             0.5555555555555556,
             "#d8576b"
            ],
            [
             0.6666666666666666,
             "#ed7953"
            ],
            [
             0.7777777777777778,
             "#fb9f3a"
            ],
            [
             0.8888888888888888,
             "#fdca26"
            ],
            [
             1,
             "#f0f921"
            ]
           ]
          },
          "colorway": [
           "#636efa",
           "#EF553B",
           "#00cc96",
           "#ab63fa",
           "#FFA15A",
           "#19d3f3",
           "#FF6692",
           "#B6E880",
           "#FF97FF",
           "#FECB52"
          ],
          "font": {
           "color": "#2a3f5f"
          },
          "geo": {
           "bgcolor": "white",
           "lakecolor": "white",
           "landcolor": "#E5ECF6",
           "showlakes": true,
           "showland": true,
           "subunitcolor": "white"
          },
          "hoverlabel": {
           "align": "left"
          },
          "hovermode": "closest",
          "mapbox": {
           "style": "light"
          },
          "paper_bgcolor": "white",
          "plot_bgcolor": "#E5ECF6",
          "polar": {
           "angularaxis": {
            "gridcolor": "white",
            "linecolor": "white",
            "ticks": ""
           },
           "bgcolor": "#E5ECF6",
           "radialaxis": {
            "gridcolor": "white",
            "linecolor": "white",
            "ticks": ""
           }
          },
          "scene": {
           "xaxis": {
            "backgroundcolor": "#E5ECF6",
            "gridcolor": "white",
            "gridwidth": 2,
            "linecolor": "white",
            "showbackground": true,
            "ticks": "",
            "zerolinecolor": "white"
           },
           "yaxis": {
            "backgroundcolor": "#E5ECF6",
            "gridcolor": "white",
            "gridwidth": 2,
            "linecolor": "white",
            "showbackground": true,
            "ticks": "",
            "zerolinecolor": "white"
           },
           "zaxis": {
            "backgroundcolor": "#E5ECF6",
            "gridcolor": "white",
            "gridwidth": 2,
            "linecolor": "white",
            "showbackground": true,
            "ticks": "",
            "zerolinecolor": "white"
           }
          },
          "shapedefaults": {
           "line": {
            "color": "#2a3f5f"
           }
          },
          "ternary": {
           "aaxis": {
            "gridcolor": "white",
            "linecolor": "white",
            "ticks": ""
           },
           "baxis": {
            "gridcolor": "white",
            "linecolor": "white",
            "ticks": ""
           },
           "bgcolor": "#E5ECF6",
           "caxis": {
            "gridcolor": "white",
            "linecolor": "white",
            "ticks": ""
           }
          },
          "title": {
           "x": 0.05
          },
          "xaxis": {
           "automargin": true,
           "gridcolor": "white",
           "linecolor": "white",
           "ticks": "",
           "title": {
            "standoff": 15
           },
           "zerolinecolor": "white",
           "zerolinewidth": 2
          },
          "yaxis": {
           "automargin": true,
           "gridcolor": "white",
           "linecolor": "white",
           "ticks": "",
           "title": {
            "standoff": 15
           },
           "zerolinecolor": "white",
           "zerolinewidth": 2
          }
         }
        },
        "xaxis": {
         "anchor": "y",
         "domain": [
          0,
          1
         ],
         "title": {
          "text": "x"
         }
        },
        "yaxis": {
         "anchor": "x",
         "domain": [
          0,
          1
         ],
         "title": {
          "text": "count"
         }
        }
       }
      }
     },
     "metadata": {},
     "output_type": "display_data"
    }
   ],
   "source": [
    "chunk_lengths = [len(chunk) for chunk in multi_stage_chunks]\n",
    "px.histogram(x=chunk_lengths).show()\n"
   ]
  },
  {
   "cell_type": "code",
   "execution_count": 63,
   "metadata": {},
   "outputs": [],
   "source": [
    "granite107 = HuggingFaceEmbeddings(\n",
    "    model_name=\"ibm-granite/granite-embedding-107m-multilingual\",\n",
    ")"
   ]
  },
  {
   "cell_type": "code",
   "execution_count": 64,
   "metadata": {},
   "outputs": [
    {
     "data": {
      "text/plain": [
       "(2175, 2298, 2130)"
      ]
     },
     "execution_count": 64,
     "metadata": {},
     "output_type": "execute_result"
    }
   ],
   "source": [
    "len(multi_stage_chunks), len(recursive_chunks), len(nltk_chunks)"
   ]
  },
  {
   "cell_type": "code",
   "execution_count": 65,
   "metadata": {},
   "outputs": [],
   "source": [
    "embeddings = granite107.embed_documents(multi_stage_chunks)"
   ]
  },
  {
   "cell_type": "code",
   "execution_count": null,
   "metadata": {},
   "outputs": [],
   "source": []
  }
 ],
 "metadata": {
  "kernelspec": {
   "display_name": "blog-GTV1m9T0-py3.12",
   "language": "python",
   "name": "python3"
  },
  "language_info": {
   "codemirror_mode": {
    "name": "ipython",
    "version": 3
   },
   "file_extension": ".py",
   "mimetype": "text/x-python",
   "name": "python",
   "nbconvert_exporter": "python",
   "pygments_lexer": "ipython3",
   "version": "3.12.10"
  }
 },
 "nbformat": 4,
 "nbformat_minor": 2
}
